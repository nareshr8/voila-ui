{
 "cells": [
  {
   "cell_type": "code",
   "execution_count": 71,
   "metadata": {},
   "outputs": [],
   "source": [
    "import pandas as pd\n",
    "import ipywidgets as widgets\n",
    "from ipywidgets import interact,VBox\n",
    "\n",
    "from ipysheet import from_dataframe,to_dataframe\n",
    "df=pd.read_csv('http://samplecsvs.s3.amazonaws.com/SalesJan2009.csv').set_index('Product').drop_duplicates().reset_index()"
   ]
  },
  {
   "cell_type": "code",
   "execution_count": 2,
   "metadata": {},
   "outputs": [],
   "source": [
    "# list(df.columns[:4])"
   ]
  },
  {
   "cell_type": "code",
   "execution_count": 3,
   "metadata": {},
   "outputs": [],
   "source": [
    "# # w = widgets.SelectMultiple(\n",
    "# #     options=tuple(df.columns),\n",
    "# #     value=list(df.columns[:4]),\n",
    "# #     description='Columns',\n",
    "# #     disabled=False\n",
    "# # )\n",
    "\n",
    "# # def multiplot(widg):\n",
    "# #     choices = widg['new']\n",
    "# #     data = df.loc[:, choices] if choices else df\n",
    "# #     output.clear_output(wait=True)\n",
    "# #     with output:\n",
    "# #         sheet=from_dataframe(data[:10])\n",
    "# #         for i,x in enumerate(choices):\n",
    "# #             sheet.cells[i].read_only=(x != 'Price')\n",
    "# #         # sheet.cells[0].read_only=True\n",
    "# #         sheet\n",
    "# #         display(sheet)\n",
    "\n",
    "# w = widgets.SelectMultiple(description=\"Columns\",options=df.columns,value=list(df.columns[:4]),disabled=False)\n",
    "\n",
    "# w"
   ]
  },
  {
   "cell_type": "code",
   "execution_count": 44,
   "metadata": {
    "scrolled": true
   },
   "outputs": [],
   "source": [
    "updated_sheet=None\n",
    "def on_select(w):\n",
    "    global sheet\n",
    "    sheet=from_dataframe(df[list(w)][:10])\n",
    "    for i,x in enumerate(list(w)):\n",
    "        sheet.cells[i].read_only=(x != 'Price')\n",
    "    return sheet"
   ]
  },
  {
   "cell_type": "code",
   "execution_count": 45,
   "metadata": {
    "scrolled": false
   },
   "outputs": [
    {
     "data": {
      "application/vnd.jupyter.widget-view+json": {
       "model_id": "b192feb783c448a8aa61ca14af1ad0e2",
       "version_major": 2,
       "version_minor": 0
      },
      "text/plain": [
       "interactive(children=(SelectMultiple(description='Columns', index=(0, 1, 2, 3), options=('Product', 'Transacti…"
      ]
     },
     "metadata": {},
     "output_type": "display_data"
    }
   ],
   "source": [
    "interact(on_select, w=widgets.SelectMultiple(description=\"Columns\",options=df.columns,value=list(df.columns[:4]),disabled=False));"
   ]
  },
  {
   "cell_type": "code",
   "execution_count": 96,
   "metadata": {},
   "outputs": [
    {
     "data": {
      "application/vnd.jupyter.widget-view+json": {
       "model_id": "b319a6bb7f3040fdb04f1279e4d304ec",
       "version_major": 2,
       "version_minor": 0
      },
      "text/plain": [
       "Button(description='Save Changes', style=ButtonStyle())"
      ]
     },
     "metadata": {},
     "output_type": "display_data"
    }
   ],
   "source": [
    "btn_run = widgets.Button(description='Save Changes');\n",
    "\n",
    "def on_save(change):\n",
    "    new_pd=to_dataframe(sheet)\n",
    "    merged_df=df.merge(new_pd, on= list(new_pd.columns),how=\"outer\",indicator=True)\n",
    "    merged_df=merged_df[merged_df['_merge']=='right_only'][new_pd.columns]\n",
    "    out_pl.clear_output()\n",
    "    if len(merged_df)>0:\n",
    "        with out_pl: display(merged_df)\n",
    "    else:\n",
    "        with out_pl: display(widgets.Label(value='No Changes Made'))\n",
    "\n",
    "btn_run.on_click(on_save)\n",
    "btn_run"
   ]
  },
  {
   "cell_type": "code",
   "execution_count": 95,
   "metadata": {},
   "outputs": [
    {
     "data": {
      "application/vnd.jupyter.widget-view+json": {
       "model_id": "607df6aaf90f40e494c85bd3781e24de",
       "version_major": 2,
       "version_minor": 0
      },
      "text/plain": [
       "VBox(children=(Output(),))"
      ]
     },
     "metadata": {},
     "output_type": "display_data"
    }
   ],
   "source": [
    "out_pl = widgets.Output()\n",
    "out_pl.clear_output()\n",
    "VBox([out_pl])"
   ]
  }
 ],
 "metadata": {
  "kernelspec": {
   "display_name": "Python 3",
   "language": "python",
   "name": "python3"
  },
  "language_info": {
   "codemirror_mode": {
    "name": "ipython",
    "version": 3
   },
   "file_extension": ".py",
   "mimetype": "text/x-python",
   "name": "python",
   "nbconvert_exporter": "python",
   "pygments_lexer": "ipython3",
   "version": "3.8.5"
  }
 },
 "nbformat": 4,
 "nbformat_minor": 4
}
